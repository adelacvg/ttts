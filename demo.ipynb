{
  "nbformat": 4,
  "nbformat_minor": 0,
  "metadata": {
    "colab": {
      "provenance": [],
      "gpuType": "T4",
      "authorship_tag": "ABX9TyNngw3hJTY5boslEDQr34An",
      "include_colab_link": true
    },
    "kernelspec": {
      "name": "python3",
      "display_name": "Python 3"
    },
    "language_info": {
      "name": "python"
    },
    "accelerator": "GPU",
    "widgets": {
      "application/vnd.jupyter.widget-state+json": {
        "474d9a121acd4a4ab0d9f946db1568bc": {
          "model_module": "@jupyter-widgets/controls",
          "model_name": "HBoxModel",
          "model_module_version": "1.5.0",
          "state": {
            "_dom_classes": [],
            "_model_module": "@jupyter-widgets/controls",
            "_model_module_version": "1.5.0",
            "_model_name": "HBoxModel",
            "_view_count": null,
            "_view_module": "@jupyter-widgets/controls",
            "_view_module_version": "1.5.0",
            "_view_name": "HBoxView",
            "box_style": "",
            "children": [
              "IPY_MODEL_576d89979ab246ed9889ca55ebef3d92",
              "IPY_MODEL_700fe25008db413db8fe97821a164ab4",
              "IPY_MODEL_46d2cadc00a348b69721f0a451b6ea8c"
            ],
            "layout": "IPY_MODEL_4340f0135b5d4a2f90a507ab8230e6e7"
          }
        },
        "576d89979ab246ed9889ca55ebef3d92": {
          "model_module": "@jupyter-widgets/controls",
          "model_name": "HTMLModel",
          "model_module_version": "1.5.0",
          "state": {
            "_dom_classes": [],
            "_model_module": "@jupyter-widgets/controls",
            "_model_module_version": "1.5.0",
            "_model_name": "HTMLModel",
            "_view_count": null,
            "_view_module": "@jupyter-widgets/controls",
            "_view_module_version": "1.5.0",
            "_view_name": "HTMLView",
            "description": "",
            "description_tooltip": null,
            "layout": "IPY_MODEL_cead9aa9d7b34351b660f330c27ac310",
            "placeholder": "​",
            "style": "IPY_MODEL_9552a1bfd4d34f76b6a1582b612a4ebf",
            "value": "config.yaml: 100%"
          }
        },
        "700fe25008db413db8fe97821a164ab4": {
          "model_module": "@jupyter-widgets/controls",
          "model_name": "FloatProgressModel",
          "model_module_version": "1.5.0",
          "state": {
            "_dom_classes": [],
            "_model_module": "@jupyter-widgets/controls",
            "_model_module_version": "1.5.0",
            "_model_name": "FloatProgressModel",
            "_view_count": null,
            "_view_module": "@jupyter-widgets/controls",
            "_view_module_version": "1.5.0",
            "_view_name": "ProgressView",
            "bar_style": "success",
            "description": "",
            "description_tooltip": null,
            "layout": "IPY_MODEL_b1d1d14f6aa94217b3d6dfd3daee1da8",
            "max": 461,
            "min": 0,
            "orientation": "horizontal",
            "style": "IPY_MODEL_99867e32bd674d709aaf1b0f7102ee81",
            "value": 461
          }
        },
        "46d2cadc00a348b69721f0a451b6ea8c": {
          "model_module": "@jupyter-widgets/controls",
          "model_name": "HTMLModel",
          "model_module_version": "1.5.0",
          "state": {
            "_dom_classes": [],
            "_model_module": "@jupyter-widgets/controls",
            "_model_module_version": "1.5.0",
            "_model_name": "HTMLModel",
            "_view_count": null,
            "_view_module": "@jupyter-widgets/controls",
            "_view_module_version": "1.5.0",
            "_view_name": "HTMLView",
            "description": "",
            "description_tooltip": null,
            "layout": "IPY_MODEL_03c99e67ea69449f9a7bcda1419d0ec4",
            "placeholder": "​",
            "style": "IPY_MODEL_380cbd29f1b84541ae20ef1f683ce69f",
            "value": " 461/461 [00:00&lt;00:00, 33.7kB/s]"
          }
        },
        "4340f0135b5d4a2f90a507ab8230e6e7": {
          "model_module": "@jupyter-widgets/base",
          "model_name": "LayoutModel",
          "model_module_version": "1.2.0",
          "state": {
            "_model_module": "@jupyter-widgets/base",
            "_model_module_version": "1.2.0",
            "_model_name": "LayoutModel",
            "_view_count": null,
            "_view_module": "@jupyter-widgets/base",
            "_view_module_version": "1.2.0",
            "_view_name": "LayoutView",
            "align_content": null,
            "align_items": null,
            "align_self": null,
            "border": null,
            "bottom": null,
            "display": null,
            "flex": null,
            "flex_flow": null,
            "grid_area": null,
            "grid_auto_columns": null,
            "grid_auto_flow": null,
            "grid_auto_rows": null,
            "grid_column": null,
            "grid_gap": null,
            "grid_row": null,
            "grid_template_areas": null,
            "grid_template_columns": null,
            "grid_template_rows": null,
            "height": null,
            "justify_content": null,
            "justify_items": null,
            "left": null,
            "margin": null,
            "max_height": null,
            "max_width": null,
            "min_height": null,
            "min_width": null,
            "object_fit": null,
            "object_position": null,
            "order": null,
            "overflow": null,
            "overflow_x": null,
            "overflow_y": null,
            "padding": null,
            "right": null,
            "top": null,
            "visibility": null,
            "width": null
          }
        },
        "cead9aa9d7b34351b660f330c27ac310": {
          "model_module": "@jupyter-widgets/base",
          "model_name": "LayoutModel",
          "model_module_version": "1.2.0",
          "state": {
            "_model_module": "@jupyter-widgets/base",
            "_model_module_version": "1.2.0",
            "_model_name": "LayoutModel",
            "_view_count": null,
            "_view_module": "@jupyter-widgets/base",
            "_view_module_version": "1.2.0",
            "_view_name": "LayoutView",
            "align_content": null,
            "align_items": null,
            "align_self": null,
            "border": null,
            "bottom": null,
            "display": null,
            "flex": null,
            "flex_flow": null,
            "grid_area": null,
            "grid_auto_columns": null,
            "grid_auto_flow": null,
            "grid_auto_rows": null,
            "grid_column": null,
            "grid_gap": null,
            "grid_row": null,
            "grid_template_areas": null,
            "grid_template_columns": null,
            "grid_template_rows": null,
            "height": null,
            "justify_content": null,
            "justify_items": null,
            "left": null,
            "margin": null,
            "max_height": null,
            "max_width": null,
            "min_height": null,
            "min_width": null,
            "object_fit": null,
            "object_position": null,
            "order": null,
            "overflow": null,
            "overflow_x": null,
            "overflow_y": null,
            "padding": null,
            "right": null,
            "top": null,
            "visibility": null,
            "width": null
          }
        },
        "9552a1bfd4d34f76b6a1582b612a4ebf": {
          "model_module": "@jupyter-widgets/controls",
          "model_name": "DescriptionStyleModel",
          "model_module_version": "1.5.0",
          "state": {
            "_model_module": "@jupyter-widgets/controls",
            "_model_module_version": "1.5.0",
            "_model_name": "DescriptionStyleModel",
            "_view_count": null,
            "_view_module": "@jupyter-widgets/base",
            "_view_module_version": "1.2.0",
            "_view_name": "StyleView",
            "description_width": ""
          }
        },
        "b1d1d14f6aa94217b3d6dfd3daee1da8": {
          "model_module": "@jupyter-widgets/base",
          "model_name": "LayoutModel",
          "model_module_version": "1.2.0",
          "state": {
            "_model_module": "@jupyter-widgets/base",
            "_model_module_version": "1.2.0",
            "_model_name": "LayoutModel",
            "_view_count": null,
            "_view_module": "@jupyter-widgets/base",
            "_view_module_version": "1.2.0",
            "_view_name": "LayoutView",
            "align_content": null,
            "align_items": null,
            "align_self": null,
            "border": null,
            "bottom": null,
            "display": null,
            "flex": null,
            "flex_flow": null,
            "grid_area": null,
            "grid_auto_columns": null,
            "grid_auto_flow": null,
            "grid_auto_rows": null,
            "grid_column": null,
            "grid_gap": null,
            "grid_row": null,
            "grid_template_areas": null,
            "grid_template_columns": null,
            "grid_template_rows": null,
            "height": null,
            "justify_content": null,
            "justify_items": null,
            "left": null,
            "margin": null,
            "max_height": null,
            "max_width": null,
            "min_height": null,
            "min_width": null,
            "object_fit": null,
            "object_position": null,
            "order": null,
            "overflow": null,
            "overflow_x": null,
            "overflow_y": null,
            "padding": null,
            "right": null,
            "top": null,
            "visibility": null,
            "width": null
          }
        },
        "99867e32bd674d709aaf1b0f7102ee81": {
          "model_module": "@jupyter-widgets/controls",
          "model_name": "ProgressStyleModel",
          "model_module_version": "1.5.0",
          "state": {
            "_model_module": "@jupyter-widgets/controls",
            "_model_module_version": "1.5.0",
            "_model_name": "ProgressStyleModel",
            "_view_count": null,
            "_view_module": "@jupyter-widgets/base",
            "_view_module_version": "1.2.0",
            "_view_name": "StyleView",
            "bar_color": null,
            "description_width": ""
          }
        },
        "03c99e67ea69449f9a7bcda1419d0ec4": {
          "model_module": "@jupyter-widgets/base",
          "model_name": "LayoutModel",
          "model_module_version": "1.2.0",
          "state": {
            "_model_module": "@jupyter-widgets/base",
            "_model_module_version": "1.2.0",
            "_model_name": "LayoutModel",
            "_view_count": null,
            "_view_module": "@jupyter-widgets/base",
            "_view_module_version": "1.2.0",
            "_view_name": "LayoutView",
            "align_content": null,
            "align_items": null,
            "align_self": null,
            "border": null,
            "bottom": null,
            "display": null,
            "flex": null,
            "flex_flow": null,
            "grid_area": null,
            "grid_auto_columns": null,
            "grid_auto_flow": null,
            "grid_auto_rows": null,
            "grid_column": null,
            "grid_gap": null,
            "grid_row": null,
            "grid_template_areas": null,
            "grid_template_columns": null,
            "grid_template_rows": null,
            "height": null,
            "justify_content": null,
            "justify_items": null,
            "left": null,
            "margin": null,
            "max_height": null,
            "max_width": null,
            "min_height": null,
            "min_width": null,
            "object_fit": null,
            "object_position": null,
            "order": null,
            "overflow": null,
            "overflow_x": null,
            "overflow_y": null,
            "padding": null,
            "right": null,
            "top": null,
            "visibility": null,
            "width": null
          }
        },
        "380cbd29f1b84541ae20ef1f683ce69f": {
          "model_module": "@jupyter-widgets/controls",
          "model_name": "DescriptionStyleModel",
          "model_module_version": "1.5.0",
          "state": {
            "_model_module": "@jupyter-widgets/controls",
            "_model_module_version": "1.5.0",
            "_model_name": "DescriptionStyleModel",
            "_view_count": null,
            "_view_module": "@jupyter-widgets/base",
            "_view_module_version": "1.2.0",
            "_view_name": "StyleView",
            "description_width": ""
          }
        },
        "b5624e5cd9a54018ac0a1db436ea7202": {
          "model_module": "@jupyter-widgets/controls",
          "model_name": "HBoxModel",
          "model_module_version": "1.5.0",
          "state": {
            "_dom_classes": [],
            "_model_module": "@jupyter-widgets/controls",
            "_model_module_version": "1.5.0",
            "_model_name": "HBoxModel",
            "_view_count": null,
            "_view_module": "@jupyter-widgets/controls",
            "_view_module_version": "1.5.0",
            "_view_name": "HBoxView",
            "box_style": "",
            "children": [
              "IPY_MODEL_ed549a2ef8ef4b28b73d8b56cbd3519d",
              "IPY_MODEL_a72129f5b6774545a9e0a30f7cb1e619",
              "IPY_MODEL_6166f05435dc4b59b7a36229183a4828"
            ],
            "layout": "IPY_MODEL_dbf4ddee3a42433c98ccce6883fab83d"
          }
        },
        "ed549a2ef8ef4b28b73d8b56cbd3519d": {
          "model_module": "@jupyter-widgets/controls",
          "model_name": "HTMLModel",
          "model_module_version": "1.5.0",
          "state": {
            "_dom_classes": [],
            "_model_module": "@jupyter-widgets/controls",
            "_model_module_version": "1.5.0",
            "_model_name": "HTMLModel",
            "_view_count": null,
            "_view_module": "@jupyter-widgets/controls",
            "_view_module_version": "1.5.0",
            "_view_name": "HTMLView",
            "description": "",
            "description_tooltip": null,
            "layout": "IPY_MODEL_b9a2279178094b598fcd978e8edc75fa",
            "placeholder": "​",
            "style": "IPY_MODEL_62fdbd59289c45e6a56154f9c7740c87",
            "value": "pytorch_model.bin: 100%"
          }
        },
        "a72129f5b6774545a9e0a30f7cb1e619": {
          "model_module": "@jupyter-widgets/controls",
          "model_name": "FloatProgressModel",
          "model_module_version": "1.5.0",
          "state": {
            "_dom_classes": [],
            "_model_module": "@jupyter-widgets/controls",
            "_model_module_version": "1.5.0",
            "_model_name": "FloatProgressModel",
            "_view_count": null,
            "_view_module": "@jupyter-widgets/controls",
            "_view_module_version": "1.5.0",
            "_view_name": "ProgressView",
            "bar_style": "success",
            "description": "",
            "description_tooltip": null,
            "layout": "IPY_MODEL_198ea7e06ab94c34b3c35b978ce754ff",
            "max": 54365991,
            "min": 0,
            "orientation": "horizontal",
            "style": "IPY_MODEL_0c9f4972097d49259122001e726d67bd",
            "value": 54365991
          }
        },
        "6166f05435dc4b59b7a36229183a4828": {
          "model_module": "@jupyter-widgets/controls",
          "model_name": "HTMLModel",
          "model_module_version": "1.5.0",
          "state": {
            "_dom_classes": [],
            "_model_module": "@jupyter-widgets/controls",
            "_model_module_version": "1.5.0",
            "_model_name": "HTMLModel",
            "_view_count": null,
            "_view_module": "@jupyter-widgets/controls",
            "_view_module_version": "1.5.0",
            "_view_name": "HTMLView",
            "description": "",
            "description_tooltip": null,
            "layout": "IPY_MODEL_3e52c628e5904044a77a2cc9efb942f0",
            "placeholder": "​",
            "style": "IPY_MODEL_4d20115a059542f9b718f4f69fb16a87",
            "value": " 54.4M/54.4M [00:00&lt;00:00, 123MB/s]"
          }
        },
        "dbf4ddee3a42433c98ccce6883fab83d": {
          "model_module": "@jupyter-widgets/base",
          "model_name": "LayoutModel",
          "model_module_version": "1.2.0",
          "state": {
            "_model_module": "@jupyter-widgets/base",
            "_model_module_version": "1.2.0",
            "_model_name": "LayoutModel",
            "_view_count": null,
            "_view_module": "@jupyter-widgets/base",
            "_view_module_version": "1.2.0",
            "_view_name": "LayoutView",
            "align_content": null,
            "align_items": null,
            "align_self": null,
            "border": null,
            "bottom": null,
            "display": null,
            "flex": null,
            "flex_flow": null,
            "grid_area": null,
            "grid_auto_columns": null,
            "grid_auto_flow": null,
            "grid_auto_rows": null,
            "grid_column": null,
            "grid_gap": null,
            "grid_row": null,
            "grid_template_areas": null,
            "grid_template_columns": null,
            "grid_template_rows": null,
            "height": null,
            "justify_content": null,
            "justify_items": null,
            "left": null,
            "margin": null,
            "max_height": null,
            "max_width": null,
            "min_height": null,
            "min_width": null,
            "object_fit": null,
            "object_position": null,
            "order": null,
            "overflow": null,
            "overflow_x": null,
            "overflow_y": null,
            "padding": null,
            "right": null,
            "top": null,
            "visibility": null,
            "width": null
          }
        },
        "b9a2279178094b598fcd978e8edc75fa": {
          "model_module": "@jupyter-widgets/base",
          "model_name": "LayoutModel",
          "model_module_version": "1.2.0",
          "state": {
            "_model_module": "@jupyter-widgets/base",
            "_model_module_version": "1.2.0",
            "_model_name": "LayoutModel",
            "_view_count": null,
            "_view_module": "@jupyter-widgets/base",
            "_view_module_version": "1.2.0",
            "_view_name": "LayoutView",
            "align_content": null,
            "align_items": null,
            "align_self": null,
            "border": null,
            "bottom": null,
            "display": null,
            "flex": null,
            "flex_flow": null,
            "grid_area": null,
            "grid_auto_columns": null,
            "grid_auto_flow": null,
            "grid_auto_rows": null,
            "grid_column": null,
            "grid_gap": null,
            "grid_row": null,
            "grid_template_areas": null,
            "grid_template_columns": null,
            "grid_template_rows": null,
            "height": null,
            "justify_content": null,
            "justify_items": null,
            "left": null,
            "margin": null,
            "max_height": null,
            "max_width": null,
            "min_height": null,
            "min_width": null,
            "object_fit": null,
            "object_position": null,
            "order": null,
            "overflow": null,
            "overflow_x": null,
            "overflow_y": null,
            "padding": null,
            "right": null,
            "top": null,
            "visibility": null,
            "width": null
          }
        },
        "62fdbd59289c45e6a56154f9c7740c87": {
          "model_module": "@jupyter-widgets/controls",
          "model_name": "DescriptionStyleModel",
          "model_module_version": "1.5.0",
          "state": {
            "_model_module": "@jupyter-widgets/controls",
            "_model_module_version": "1.5.0",
            "_model_name": "DescriptionStyleModel",
            "_view_count": null,
            "_view_module": "@jupyter-widgets/base",
            "_view_module_version": "1.2.0",
            "_view_name": "StyleView",
            "description_width": ""
          }
        },
        "198ea7e06ab94c34b3c35b978ce754ff": {
          "model_module": "@jupyter-widgets/base",
          "model_name": "LayoutModel",
          "model_module_version": "1.2.0",
          "state": {
            "_model_module": "@jupyter-widgets/base",
            "_model_module_version": "1.2.0",
            "_model_name": "LayoutModel",
            "_view_count": null,
            "_view_module": "@jupyter-widgets/base",
            "_view_module_version": "1.2.0",
            "_view_name": "LayoutView",
            "align_content": null,
            "align_items": null,
            "align_self": null,
            "border": null,
            "bottom": null,
            "display": null,
            "flex": null,
            "flex_flow": null,
            "grid_area": null,
            "grid_auto_columns": null,
            "grid_auto_flow": null,
            "grid_auto_rows": null,
            "grid_column": null,
            "grid_gap": null,
            "grid_row": null,
            "grid_template_areas": null,
            "grid_template_columns": null,
            "grid_template_rows": null,
            "height": null,
            "justify_content": null,
            "justify_items": null,
            "left": null,
            "margin": null,
            "max_height": null,
            "max_width": null,
            "min_height": null,
            "min_width": null,
            "object_fit": null,
            "object_position": null,
            "order": null,
            "overflow": null,
            "overflow_x": null,
            "overflow_y": null,
            "padding": null,
            "right": null,
            "top": null,
            "visibility": null,
            "width": null
          }
        },
        "0c9f4972097d49259122001e726d67bd": {
          "model_module": "@jupyter-widgets/controls",
          "model_name": "ProgressStyleModel",
          "model_module_version": "1.5.0",
          "state": {
            "_model_module": "@jupyter-widgets/controls",
            "_model_module_version": "1.5.0",
            "_model_name": "ProgressStyleModel",
            "_view_count": null,
            "_view_module": "@jupyter-widgets/base",
            "_view_module_version": "1.2.0",
            "_view_name": "StyleView",
            "bar_color": null,
            "description_width": ""
          }
        },
        "3e52c628e5904044a77a2cc9efb942f0": {
          "model_module": "@jupyter-widgets/base",
          "model_name": "LayoutModel",
          "model_module_version": "1.2.0",
          "state": {
            "_model_module": "@jupyter-widgets/base",
            "_model_module_version": "1.2.0",
            "_model_name": "LayoutModel",
            "_view_count": null,
            "_view_module": "@jupyter-widgets/base",
            "_view_module_version": "1.2.0",
            "_view_name": "LayoutView",
            "align_content": null,
            "align_items": null,
            "align_self": null,
            "border": null,
            "bottom": null,
            "display": null,
            "flex": null,
            "flex_flow": null,
            "grid_area": null,
            "grid_auto_columns": null,
            "grid_auto_flow": null,
            "grid_auto_rows": null,
            "grid_column": null,
            "grid_gap": null,
            "grid_row": null,
            "grid_template_areas": null,
            "grid_template_columns": null,
            "grid_template_rows": null,
            "height": null,
            "justify_content": null,
            "justify_items": null,
            "left": null,
            "margin": null,
            "max_height": null,
            "max_width": null,
            "min_height": null,
            "min_width": null,
            "object_fit": null,
            "object_position": null,
            "order": null,
            "overflow": null,
            "overflow_x": null,
            "overflow_y": null,
            "padding": null,
            "right": null,
            "top": null,
            "visibility": null,
            "width": null
          }
        },
        "4d20115a059542f9b718f4f69fb16a87": {
          "model_module": "@jupyter-widgets/controls",
          "model_name": "DescriptionStyleModel",
          "model_module_version": "1.5.0",
          "state": {
            "_model_module": "@jupyter-widgets/controls",
            "_model_module_version": "1.5.0",
            "_model_name": "DescriptionStyleModel",
            "_view_count": null,
            "_view_module": "@jupyter-widgets/base",
            "_view_module_version": "1.2.0",
            "_view_name": "StyleView",
            "description_width": ""
          }
        }
      }
    }
  },
  "cells": [
    {
      "cell_type": "markdown",
      "metadata": {
        "id": "view-in-github",
        "colab_type": "text"
      },
      "source": [
        "<a href=\"https://colab.research.google.com/github/adelacvg/ttts/blob/master/demo.ipynb\" target=\"_parent\"><img src=\"https://colab.research.google.com/assets/colab-badge.svg\" alt=\"Open In Colab\"/></a>"
      ]
    },
    {
      "cell_type": "code",
      "source": [
        "!git clone https://github.com/adelacvg/ttts.git"
      ],
      "metadata": {
        "colab": {
          "base_uri": "https://localhost:8080/"
        },
        "id": "WB8vmGyDAPrr",
        "outputId": "051eb1ad-596e-4ac2-8cf1-2763bf73cf20"
      },
      "execution_count": 1,
      "outputs": [
        {
          "output_type": "stream",
          "name": "stdout",
          "text": [
            "Cloning into 'ttts'...\n",
            "remote: Enumerating objects: 501, done.\u001b[K\n",
            "remote: Counting objects: 100% (407/407), done.\u001b[K\n",
            "remote: Compressing objects: 100% (287/287), done.\u001b[K\n",
            "remote: Total 501 (delta 219), reused 291 (delta 113), pack-reused 94\u001b[K\n",
            "Receiving objects: 100% (501/501), 60.23 MiB | 12.96 MiB/s, done.\n",
            "Resolving deltas: 100% (228/228), done.\n"
          ]
        }
      ]
    },
    {
      "cell_type": "code",
      "source": [
        "%cd ttts\n",
        "!pip install -e ."
      ],
      "metadata": {
        "colab": {
          "base_uri": "https://localhost:8080/"
        },
        "id": "HKikTDsVA1_g",
        "outputId": "1906df87-d848-4099-acec-b18c40db200a"
      },
      "execution_count": 2,
      "outputs": [
        {
          "output_type": "stream",
          "name": "stdout",
          "text": [
            "/content/ttts\n",
            "Obtaining file:///content/ttts\n",
            "  Preparing metadata (setup.py) ... \u001b[?25l\u001b[?25hdone\n",
            "Installing collected packages: ttts\n",
            "  Running setup.py develop for ttts\n",
            "Successfully installed ttts-0.1\n"
          ]
        }
      ]
    },
    {
      "cell_type": "code",
      "source": [
        "!git lfs install\n",
        "!git clone https://huggingface.co/adelacvg/TTTS"
      ],
      "metadata": {
        "colab": {
          "base_uri": "https://localhost:8080/"
        },
        "id": "_KYD7eZQB4x7",
        "outputId": "f69c1211-c828-4cd1-a2eb-df9ddb588a6a"
      },
      "execution_count": 3,
      "outputs": [
        {
          "output_type": "stream",
          "name": "stdout",
          "text": [
            "Updated git hooks.\n",
            "Git LFS initialized.\n",
            "Cloning into 'TTTS'...\n",
            "remote: Enumerating objects: 15, done.\u001b[K\n",
            "remote: Counting objects: 100% (11/11), done.\u001b[K\n",
            "remote: Compressing objects: 100% (11/11), done.\u001b[K\n",
            "remote: Total 15 (delta 2), reused 0 (delta 0), pack-reused 4\u001b[K\n",
            "Unpacking objects: 100% (15/15), 3.19 KiB | 1.06 MiB/s, done.\n",
            "Filtering content: 100% (5/5), 2.43 GiB | 50.36 MiB/s, done.\n"
          ]
        }
      ]
    },
    {
      "cell_type": "code",
      "source": [
        "import locale\n",
        "locale.getpreferredencoding = lambda: \"UTF-8\"\n",
        "!pip install pypinyin einops omegaconf==2.0.6 encodec vocos k_diffusion"
      ],
      "metadata": {
        "colab": {
          "base_uri": "https://localhost:8080/"
        },
        "id": "UcOqgsONDGZ3",
        "outputId": "5d0ef477-0263-4cad-cd75-da93a1482a87"
      },
      "execution_count": 4,
      "outputs": [
        {
          "output_type": "stream",
          "name": "stdout",
          "text": [
            "Collecting pypinyin\n",
            "  Downloading pypinyin-0.50.0-py2.py3-none-any.whl (1.4 MB)\n",
            "\u001b[?25l     \u001b[90m━━━━━━━━━━━━━━━━━━━━━━━━━━━━━━━━━━━━━━━━\u001b[0m \u001b[32m0.0/1.4 MB\u001b[0m \u001b[31m?\u001b[0m eta \u001b[36m-:--:--\u001b[0m\r\u001b[2K     \u001b[91m━━━━━\u001b[0m\u001b[90m╺\u001b[0m\u001b[90m━━━━━━━━━━━━━━━━━━━━━━━━━━━━━━━━━━\u001b[0m \u001b[32m0.2/1.4 MB\u001b[0m \u001b[31m5.0 MB/s\u001b[0m eta \u001b[36m0:00:01\u001b[0m\r\u001b[2K     \u001b[91m━━━━━━━━━━━━━━━━\u001b[0m\u001b[91m╸\u001b[0m\u001b[90m━━━━━━━━━━━━━━━━━━━━━━━\u001b[0m \u001b[32m0.6/1.4 MB\u001b[0m \u001b[31m8.3 MB/s\u001b[0m eta \u001b[36m0:00:01\u001b[0m\r\u001b[2K     \u001b[91m━━━━━━━━━━━━━━━━━━━━━━━━━━━━━━\u001b[0m\u001b[91m╸\u001b[0m\u001b[90m━━━━━━━━━\u001b[0m \u001b[32m1.0/1.4 MB\u001b[0m \u001b[31m10.0 MB/s\u001b[0m eta \u001b[36m0:00:01\u001b[0m\r\u001b[2K     \u001b[90m━━━━━━━━━━━━━━━━━━━━━━━━━━━━━━━━━━━━━━━━\u001b[0m \u001b[32m1.4/1.4 MB\u001b[0m \u001b[31m10.0 MB/s\u001b[0m eta \u001b[36m0:00:00\u001b[0m\n",
            "\u001b[?25hCollecting einops\n",
            "  Downloading einops-0.7.0-py3-none-any.whl (44 kB)\n",
            "\u001b[2K     \u001b[90m━━━━━━━━━━━━━━━━━━━━━━━━━━━━━━━━━━━━━━━━\u001b[0m \u001b[32m44.6/44.6 kB\u001b[0m \u001b[31m5.8 MB/s\u001b[0m eta \u001b[36m0:00:00\u001b[0m\n",
            "\u001b[?25hCollecting omegaconf==2.0.6\n",
            "  Downloading omegaconf-2.0.6-py3-none-any.whl (36 kB)\n",
            "Collecting encodec\n",
            "  Downloading encodec-0.1.1.tar.gz (3.7 MB)\n",
            "\u001b[2K     \u001b[90m━━━━━━━━━━━━━━━━━━━━━━━━━━━━━━━━━━━━━━━━\u001b[0m \u001b[32m3.7/3.7 MB\u001b[0m \u001b[31m23.2 MB/s\u001b[0m eta \u001b[36m0:00:00\u001b[0m\n",
            "\u001b[?25h  Preparing metadata (setup.py) ... \u001b[?25l\u001b[?25hdone\n",
            "Collecting vocos\n",
            "  Downloading vocos-0.1.0-py3-none-any.whl (24 kB)\n",
            "Collecting k_diffusion\n",
            "  Downloading k_diffusion-0.1.1.post1-py3-none-any.whl (33 kB)\n",
            "Requirement already satisfied: PyYAML>=5.1.* in /usr/local/lib/python3.10/dist-packages (from omegaconf==2.0.6) (6.0.1)\n",
            "Requirement already satisfied: typing-extensions in /usr/local/lib/python3.10/dist-packages (from omegaconf==2.0.6) (4.5.0)\n",
            "Requirement already satisfied: numpy in /usr/local/lib/python3.10/dist-packages (from encodec) (1.23.5)\n",
            "Requirement already satisfied: torch in /usr/local/lib/python3.10/dist-packages (from encodec) (2.1.0+cu121)\n",
            "Requirement already satisfied: torchaudio in /usr/local/lib/python3.10/dist-packages (from encodec) (2.1.0+cu121)\n",
            "Requirement already satisfied: scipy in /usr/local/lib/python3.10/dist-packages (from vocos) (1.11.4)\n",
            "Requirement already satisfied: huggingface-hub in /usr/local/lib/python3.10/dist-packages (from vocos) (0.20.2)\n",
            "Collecting accelerate (from k_diffusion)\n",
            "  Downloading accelerate-0.26.1-py3-none-any.whl (270 kB)\n",
            "\u001b[2K     \u001b[90m━━━━━━━━━━━━━━━━━━━━━━━━━━━━━━━━━━━━━━━━\u001b[0m \u001b[32m270.9/270.9 kB\u001b[0m \u001b[31m27.1 MB/s\u001b[0m eta \u001b[36m0:00:00\u001b[0m\n",
            "\u001b[?25hCollecting clean-fid (from k_diffusion)\n",
            "  Downloading clean_fid-0.1.35-py3-none-any.whl (26 kB)\n",
            "Collecting clip-anytorch (from k_diffusion)\n",
            "  Downloading clip_anytorch-2.6.0-py3-none-any.whl (1.4 MB)\n",
            "\u001b[2K     \u001b[90m━━━━━━━━━━━━━━━━━━━━━━━━━━━━━━━━━━━━━━━━\u001b[0m \u001b[32m1.4/1.4 MB\u001b[0m \u001b[31m31.3 MB/s\u001b[0m eta \u001b[36m0:00:00\u001b[0m\n",
            "\u001b[?25hCollecting dctorch (from k_diffusion)\n",
            "  Downloading dctorch-0.1.2-py3-none-any.whl (2.3 kB)\n",
            "Collecting jsonmerge (from k_diffusion)\n",
            "  Downloading jsonmerge-1.9.2-py3-none-any.whl (19 kB)\n",
            "Collecting kornia (from k_diffusion)\n",
            "  Downloading kornia-0.7.1-py2.py3-none-any.whl (756 kB)\n",
            "\u001b[2K     \u001b[90m━━━━━━━━━━━━━━━━━━━━━━━━━━━━━━━━━━━━━━━━\u001b[0m \u001b[32m756.0/756.0 kB\u001b[0m \u001b[31m37.4 MB/s\u001b[0m eta \u001b[36m0:00:00\u001b[0m\n",
            "\u001b[?25hRequirement already satisfied: Pillow in /usr/local/lib/python3.10/dist-packages (from k_diffusion) (9.4.0)\n",
            "Requirement already satisfied: safetensors in /usr/local/lib/python3.10/dist-packages (from k_diffusion) (0.4.1)\n",
            "Requirement already satisfied: scikit-image in /usr/local/lib/python3.10/dist-packages (from k_diffusion) (0.19.3)\n",
            "Collecting torchdiffeq (from k_diffusion)\n",
            "  Downloading torchdiffeq-0.2.3-py3-none-any.whl (31 kB)\n",
            "Collecting torchsde (from k_diffusion)\n",
            "  Downloading torchsde-0.2.6-py3-none-any.whl (61 kB)\n",
            "\u001b[2K     \u001b[90m━━━━━━━━━━━━━━━━━━━━━━━━━━━━━━━━━━━━━━━━\u001b[0m \u001b[32m61.2/61.2 kB\u001b[0m \u001b[31m9.1 MB/s\u001b[0m eta \u001b[36m0:00:00\u001b[0m\n",
            "\u001b[?25hRequirement already satisfied: torchvision in /usr/local/lib/python3.10/dist-packages (from k_diffusion) (0.16.0+cu121)\n",
            "Requirement already satisfied: tqdm in /usr/local/lib/python3.10/dist-packages (from k_diffusion) (4.66.1)\n",
            "Collecting wandb (from k_diffusion)\n",
            "  Downloading wandb-0.16.2-py3-none-any.whl (2.2 MB)\n",
            "\u001b[2K     \u001b[90m━━━━━━━━━━━━━━━━━━━━━━━━━━━━━━━━━━━━━━━━\u001b[0m \u001b[32m2.2/2.2 MB\u001b[0m \u001b[31m38.3 MB/s\u001b[0m eta \u001b[36m0:00:00\u001b[0m\n",
            "\u001b[?25hRequirement already satisfied: filelock in /usr/local/lib/python3.10/dist-packages (from torch->encodec) (3.13.1)\n",
            "Requirement already satisfied: sympy in /usr/local/lib/python3.10/dist-packages (from torch->encodec) (1.12)\n",
            "Requirement already satisfied: networkx in /usr/local/lib/python3.10/dist-packages (from torch->encodec) (3.2.1)\n",
            "Requirement already satisfied: jinja2 in /usr/local/lib/python3.10/dist-packages (from torch->encodec) (3.1.2)\n",
            "Requirement already satisfied: fsspec in /usr/local/lib/python3.10/dist-packages (from torch->encodec) (2023.6.0)\n",
            "Requirement already satisfied: triton==2.1.0 in /usr/local/lib/python3.10/dist-packages (from torch->encodec) (2.1.0)\n",
            "Requirement already satisfied: packaging>=20.0 in /usr/local/lib/python3.10/dist-packages (from accelerate->k_diffusion) (23.2)\n",
            "Requirement already satisfied: psutil in /usr/local/lib/python3.10/dist-packages (from accelerate->k_diffusion) (5.9.5)\n",
            "Requirement already satisfied: requests in /usr/local/lib/python3.10/dist-packages (from clean-fid->k_diffusion) (2.31.0)\n",
            "Collecting ftfy (from clip-anytorch->k_diffusion)\n",
            "  Downloading ftfy-6.1.3-py3-none-any.whl (53 kB)\n",
            "\u001b[2K     \u001b[90m━━━━━━━━━━━━━━━━━━━━━━━━━━━━━━━━━━━━━━━━\u001b[0m \u001b[32m53.4/53.4 kB\u001b[0m \u001b[31m5.7 MB/s\u001b[0m eta \u001b[36m0:00:00\u001b[0m\n",
            "\u001b[?25hRequirement already satisfied: regex in /usr/local/lib/python3.10/dist-packages (from clip-anytorch->k_diffusion) (2023.6.3)\n",
            "Requirement already satisfied: jsonschema>2.4.0 in /usr/local/lib/python3.10/dist-packages (from jsonmerge->k_diffusion) (4.19.2)\n",
            "Requirement already satisfied: imageio>=2.4.1 in /usr/local/lib/python3.10/dist-packages (from scikit-image->k_diffusion) (2.31.6)\n",
            "Requirement already satisfied: tifffile>=2019.7.26 in /usr/local/lib/python3.10/dist-packages (from scikit-image->k_diffusion) (2023.12.9)\n",
            "Requirement already satisfied: PyWavelets>=1.1.1 in /usr/local/lib/python3.10/dist-packages (from scikit-image->k_diffusion) (1.5.0)\n",
            "Collecting trampoline>=0.1.2 (from torchsde->k_diffusion)\n",
            "  Downloading trampoline-0.1.2-py3-none-any.whl (5.2 kB)\n",
            "Requirement already satisfied: Click!=8.0.0,>=7.1 in /usr/local/lib/python3.10/dist-packages (from wandb->k_diffusion) (8.1.7)\n",
            "Collecting GitPython!=3.1.29,>=1.0.0 (from wandb->k_diffusion)\n",
            "  Downloading GitPython-3.1.41-py3-none-any.whl (196 kB)\n",
            "\u001b[2K     \u001b[90m━━━━━━━━━━━━━━━━━━━━━━━━━━━━━━━━━━━━━━━━\u001b[0m \u001b[32m196.4/196.4 kB\u001b[0m \u001b[31m21.8 MB/s\u001b[0m eta \u001b[36m0:00:00\u001b[0m\n",
            "\u001b[?25hCollecting sentry-sdk>=1.0.0 (from wandb->k_diffusion)\n",
            "  Downloading sentry_sdk-1.39.2-py2.py3-none-any.whl (254 kB)\n",
            "\u001b[2K     \u001b[90m━━━━━━━━━━━━━━━━━━━━━━━━━━━━━━━━━━━━━━━━\u001b[0m \u001b[32m254.1/254.1 kB\u001b[0m \u001b[31m23.0 MB/s\u001b[0m eta \u001b[36m0:00:00\u001b[0m\n",
            "\u001b[?25hCollecting docker-pycreds>=0.4.0 (from wandb->k_diffusion)\n",
            "  Downloading docker_pycreds-0.4.0-py2.py3-none-any.whl (9.0 kB)\n",
            "Collecting setproctitle (from wandb->k_diffusion)\n",
            "  Downloading setproctitle-1.3.3-cp310-cp310-manylinux_2_5_x86_64.manylinux1_x86_64.manylinux_2_17_x86_64.manylinux2014_x86_64.whl (30 kB)\n",
            "Requirement already satisfied: setuptools in /usr/local/lib/python3.10/dist-packages (from wandb->k_diffusion) (67.7.2)\n",
            "Requirement already satisfied: appdirs>=1.4.3 in /usr/local/lib/python3.10/dist-packages (from wandb->k_diffusion) (1.4.4)\n",
            "Requirement already satisfied: protobuf!=4.21.0,<5,>=3.19.0 in /usr/local/lib/python3.10/dist-packages (from wandb->k_diffusion) (3.20.3)\n",
            "Requirement already satisfied: six>=1.4.0 in /usr/local/lib/python3.10/dist-packages (from docker-pycreds>=0.4.0->wandb->k_diffusion) (1.16.0)\n",
            "Collecting gitdb<5,>=4.0.1 (from GitPython!=3.1.29,>=1.0.0->wandb->k_diffusion)\n",
            "  Downloading gitdb-4.0.11-py3-none-any.whl (62 kB)\n",
            "\u001b[2K     \u001b[90m━━━━━━━━━━━━━━━━━━━━━━━━━━━━━━━━━━━━━━━━\u001b[0m \u001b[32m62.7/62.7 kB\u001b[0m \u001b[31m7.9 MB/s\u001b[0m eta \u001b[36m0:00:00\u001b[0m\n",
            "\u001b[?25hRequirement already satisfied: attrs>=22.2.0 in /usr/local/lib/python3.10/dist-packages (from jsonschema>2.4.0->jsonmerge->k_diffusion) (23.2.0)\n",
            "Requirement already satisfied: jsonschema-specifications>=2023.03.6 in /usr/local/lib/python3.10/dist-packages (from jsonschema>2.4.0->jsonmerge->k_diffusion) (2023.12.1)\n",
            "Requirement already satisfied: referencing>=0.28.4 in /usr/local/lib/python3.10/dist-packages (from jsonschema>2.4.0->jsonmerge->k_diffusion) (0.32.1)\n",
            "Requirement already satisfied: rpds-py>=0.7.1 in /usr/local/lib/python3.10/dist-packages (from jsonschema>2.4.0->jsonmerge->k_diffusion) (0.16.2)\n",
            "Requirement already satisfied: charset-normalizer<4,>=2 in /usr/local/lib/python3.10/dist-packages (from requests->clean-fid->k_diffusion) (3.3.2)\n",
            "Requirement already satisfied: idna<4,>=2.5 in /usr/local/lib/python3.10/dist-packages (from requests->clean-fid->k_diffusion) (3.6)\n",
            "Requirement already satisfied: urllib3<3,>=1.21.1 in /usr/local/lib/python3.10/dist-packages (from requests->clean-fid->k_diffusion) (2.0.7)\n",
            "Requirement already satisfied: certifi>=2017.4.17 in /usr/local/lib/python3.10/dist-packages (from requests->clean-fid->k_diffusion) (2023.11.17)\n",
            "Requirement already satisfied: wcwidth<0.3.0,>=0.2.12 in /usr/local/lib/python3.10/dist-packages (from ftfy->clip-anytorch->k_diffusion) (0.2.12)\n",
            "Requirement already satisfied: MarkupSafe>=2.0 in /usr/local/lib/python3.10/dist-packages (from jinja2->torch->encodec) (2.1.3)\n",
            "Requirement already satisfied: mpmath>=0.19 in /usr/local/lib/python3.10/dist-packages (from sympy->torch->encodec) (1.3.0)\n",
            "Collecting smmap<6,>=3.0.1 (from gitdb<5,>=4.0.1->GitPython!=3.1.29,>=1.0.0->wandb->k_diffusion)\n",
            "  Downloading smmap-5.0.1-py3-none-any.whl (24 kB)\n",
            "Building wheels for collected packages: encodec\n",
            "  Building wheel for encodec (setup.py) ... \u001b[?25l\u001b[?25hdone\n",
            "  Created wheel for encodec: filename=encodec-0.1.1-py3-none-any.whl size=45759 sha256=a6f25c3141ae73377bf58efa53716b479f3299aaebcbaf213514f7955a86427f\n",
            "  Stored in directory: /root/.cache/pip/wheels/fc/36/cb/81af8b985a5f5e0815312d5e52b41263237af07b977e6bcbf3\n",
            "Successfully built encodec\n",
            "Installing collected packages: trampoline, smmap, setproctitle, sentry-sdk, pypinyin, omegaconf, ftfy, einops, docker-pycreds, gitdb, torchsde, torchdiffeq, kornia, GitPython, dctorch, accelerate, wandb, jsonmerge, encodec, clip-anytorch, clean-fid, vocos, k_diffusion\n",
            "Successfully installed GitPython-3.1.41 accelerate-0.26.1 clean-fid-0.1.35 clip-anytorch-2.6.0 dctorch-0.1.2 docker-pycreds-0.4.0 einops-0.7.0 encodec-0.1.1 ftfy-6.1.3 gitdb-4.0.11 jsonmerge-1.9.2 k_diffusion-0.1.1.post1 kornia-0.7.1 omegaconf-2.0.6 pypinyin-0.50.0 sentry-sdk-1.39.2 setproctitle-1.3.3 smmap-5.0.1 torchdiffeq-0.2.3 torchsde-0.2.6 trampoline-0.1.2 vocos-0.1.0 wandb-0.16.2\n"
          ]
        }
      ]
    },
    {
      "cell_type": "code",
      "execution_count": 5,
      "metadata": {
        "id": "9Iz6jokZ_-AB"
      },
      "outputs": [],
      "source": [
        "from pypinyin import lazy_pinyin, Style\n",
        "import torch\n",
        "\n",
        "MODELS = {\n",
        "    'vqvae.pth':'TTTS/vae-30.pt',\n",
        "    'gpt.pth': 'TTTS/gpt-70.pt',\n",
        "    'clvp2.pth': '',\n",
        "    'diffusion.pth': 'TTTS/diffusion-855.pt',\n",
        "    'vocoder.pth': '~/tortoise_plus_zh/ttts/pretrained_models/pytorch_model.bin',\n",
        "    'rlg_auto.pth': '',\n",
        "    'rlg_diffuser.pth': '',\n",
        "}"
      ]
    },
    {
      "cell_type": "code",
      "source": [
        "from ttts.gpt.voice_tokenizer import VoiceBpeTokenizer\n",
        "import torch.nn.functional as F\n",
        "device = 'cuda:0'\n",
        "text = \"大家好，今天来点大家想看的东西。\"\n",
        "# text = \"霞浦县衙城镇乌旗瓦窑村水位猛涨。\"\n",
        "# text = '高德官方网站，拥有全面、精准的地点信息，公交驾车路线规划，特色语音导航，商家团购、优惠信息。'\n",
        "# text = '四是四，十是十，十四是十四，四十是四十。'\n",
        "# text = '八百标兵奔北坡，炮兵并排北边跑。炮兵怕把标兵碰，标兵怕碰炮兵炮。'\n",
        "# text = '黑化肥发灰，灰化肥发黑。黑化肥挥发会发灰；灰化肥挥发会发黑。'\n",
        "# text = '先帝创业未半而中道崩殂，今天下三分，益州疲弊，此诚危急存亡之秋也。然侍卫之臣不懈于内，忠志之士忘身于外者，盖追先帝之殊遇，欲报之于陛下也。诚宜开张圣听，以光先帝遗德，恢弘志士之气，不宜妄自菲薄，引喻失义，以塞忠谏之路也。'\n",
        "pinyin = ' '.join(lazy_pinyin(text, style=Style.TONE3, neutral_tone_with_five=True))\n",
        "tokenizer = VoiceBpeTokenizer('ttts/gpt/gpt_tts_tokenizer.json')\n",
        "text_tokens = torch.IntTensor(tokenizer.encode(pinyin)).unsqueeze(0).to(device)\n",
        "text_tokens = F.pad(text_tokens, (0, 1))  # This may not be necessary.\n",
        "text_tokens = text_tokens.to(device)\n",
        "print(pinyin)\n",
        "print(text_tokens)"
      ],
      "metadata": {
        "colab": {
          "base_uri": "https://localhost:8080/"
        },
        "id": "SpTKi32TDQFi",
        "outputId": "84292cc0-d09e-420d-c449-a746e44dade5"
      },
      "execution_count": 6,
      "outputs": [
        {
          "output_type": "stream",
          "name": "stdout",
          "text": [
            "da4 jia1 hao3 ， jin1 tian1 lai2 dian3 da4 jia1 xiang3 kan4 de5 dong1 xi1 。\n",
            "tensor([[161,   2, 155,   2,  16,  87,   2,  43,   2, 224,   2, 171,  71,   2,\n",
            "         182,   2, 188,   2, 161,   2, 155,   2,  62,  92,   2,  19,  63,   2,\n",
            "          65,   2,  12,  84,   2, 228,   2,  39,   0]], device='cuda:0',\n",
            "       dtype=torch.int32)\n"
          ]
        }
      ]
    },
    {
      "cell_type": "code",
      "source": [
        "from ttts.utils.infer_utils import load_model\n",
        "from ttts.vocoder.feature_extractors import MelSpectrogramFeatures\n",
        "import torchaudio\n",
        "# device = 'gpu:0'\n",
        "gpt = load_model('gpt',MODELS['gpt.pth'],'ttts/gpt/config.json',device)\n",
        "gpt.post_init_gpt2_config(use_deepspeed=False, kv_cache=False, half=False)\n",
        "# diffusion = load_model('diffusion',MODELS['diffusion.pth'],'ttts/diffusion/config.json',device)\n",
        "cond_audio = 'ttts/3.wav'\n",
        "audio,sr = torchaudio.load(cond_audio)\n",
        "if audio.shape[0]>1:\n",
        "    audio = audio[0].unsqueeze(0)\n",
        "audio = torchaudio.transforms.Resample(sr,24000)(audio)\n",
        "cond_mel = MelSpectrogramFeatures()(audio).to(device)\n",
        "print(cond_mel.shape)"
      ],
      "metadata": {
        "colab": {
          "base_uri": "https://localhost:8080/"
        },
        "id": "0LBf8nz2DQ-_",
        "outputId": "5da3c1c4-1988-4f78-d6c3-0bb936132ea0"
      },
      "execution_count": 7,
      "outputs": [
        {
          "output_type": "stream",
          "name": "stderr",
          "text": [
            "/usr/local/lib/python3.10/dist-packages/transformers/configuration_utils.py:381: UserWarning: Passing `gradient_checkpointing` to a config initialization is deprecated and will be removed in v5 Transformers. Using `model.gradient_checkpointing_enable()` instead, or if you are using the `Trainer` API, pass `gradient_checkpointing=True` in your `TrainingArguments`.\n",
            "  warnings.warn(\n"
          ]
        },
        {
          "output_type": "stream",
          "name": "stdout",
          "text": [
            "torch.Size([1, 100, 400])\n"
          ]
        }
      ]
    },
    {
      "cell_type": "code",
      "source": [
        "auto_conditioning = cond_mel\n",
        "settings = {'temperature': .8, 'length_penalty': 1.0, 'repetition_penalty': 2.0,\n",
        "                    'top_p': .8,\n",
        "                    'cond_free_k': 2.0, 'diffusion_temperature': 1.0}\n",
        "top_p = .8\n",
        "temperature = .8\n",
        "autoregressive_batch_size = 1\n",
        "length_penalty = 1.0\n",
        "repetition_penalty = 2.0\n",
        "max_mel_tokens = 600\n",
        "print(auto_conditioning.shape)\n",
        "print(text_tokens.shape)\n",
        "# text_tokens = F.pad(text_tokens,(0,400-text_tokens.shape[1]),value=0)\n",
        "print(text_tokens.shape)\n",
        "codes = gpt.inference_speech(auto_conditioning, text_tokens,\n",
        "                                do_sample=True,\n",
        "                                top_p=top_p,\n",
        "                                temperature=temperature,\n",
        "                                num_return_sequences=autoregressive_batch_size,\n",
        "                                length_penalty=length_penalty,\n",
        "                                repetition_penalty=repetition_penalty,\n",
        "                                max_generate_length=max_mel_tokens)\n",
        "print(codes)"
      ],
      "metadata": {
        "colab": {
          "base_uri": "https://localhost:8080/"
        },
        "id": "VFEHSQ42Dadt",
        "outputId": "774d31e7-8619-40b7-b503-29b1db39b07a"
      },
      "execution_count": 8,
      "outputs": [
        {
          "output_type": "stream",
          "name": "stdout",
          "text": [
            "torch.Size([1, 100, 400])\n",
            "torch.Size([1, 37])\n",
            "torch.Size([1, 37])\n",
            "tensor([[2867,   40, 7537, 5986,  692, 8079, 3282, 2094, 7478, 3286, 6652, 6674,\n",
            "         5798, 2868, 4153, 1419, 4593,  423, 4472, 1487, 1989, 1628, 2796, 7296,\n",
            "         4683, 3228, 7038, 6446,   89,  650, 7796, 2746, 4241, 4120, 2312, 1319,\n",
            "          920, 4114, 6384, 4140, 1420, 7758, 1772, 6313, 4813, 1588,  366, 7217,\n",
            "         6078, 2773, 6962, 5245, 7034, 1663, 6909, 7176, 3340, 3308, 1078,   72,\n",
            "         1060, 4546, 2860, 3679, 6956, 4215, 2774, 5394,    0, 8193]],\n",
            "       device='cuda:0')\n"
          ]
        }
      ]
    },
    {
      "cell_type": "code",
      "source": [
        "from vocos import Vocos\n",
        "\n",
        "vocos = Vocos.from_pretrained(\"charactr/vocos-mel-24khz\")"
      ],
      "metadata": {
        "colab": {
          "base_uri": "https://localhost:8080/",
          "height": 209,
          "referenced_widgets": [
            "474d9a121acd4a4ab0d9f946db1568bc",
            "576d89979ab246ed9889ca55ebef3d92",
            "700fe25008db413db8fe97821a164ab4",
            "46d2cadc00a348b69721f0a451b6ea8c",
            "4340f0135b5d4a2f90a507ab8230e6e7",
            "cead9aa9d7b34351b660f330c27ac310",
            "9552a1bfd4d34f76b6a1582b612a4ebf",
            "b1d1d14f6aa94217b3d6dfd3daee1da8",
            "99867e32bd674d709aaf1b0f7102ee81",
            "03c99e67ea69449f9a7bcda1419d0ec4",
            "380cbd29f1b84541ae20ef1f683ce69f",
            "b5624e5cd9a54018ac0a1db436ea7202",
            "ed549a2ef8ef4b28b73d8b56cbd3519d",
            "a72129f5b6774545a9e0a30f7cb1e619",
            "6166f05435dc4b59b7a36229183a4828",
            "dbf4ddee3a42433c98ccce6883fab83d",
            "b9a2279178094b598fcd978e8edc75fa",
            "62fdbd59289c45e6a56154f9c7740c87",
            "198ea7e06ab94c34b3c35b978ce754ff",
            "0c9f4972097d49259122001e726d67bd",
            "3e52c628e5904044a77a2cc9efb942f0",
            "4d20115a059542f9b718f4f69fb16a87"
          ]
        },
        "id": "cIGDrvOHDfvS",
        "outputId": "50e7c89c-d2c2-4655-c34b-0cd7d556b791"
      },
      "execution_count": 9,
      "outputs": [
        {
          "output_type": "stream",
          "name": "stderr",
          "text": [
            "/usr/local/lib/python3.10/dist-packages/huggingface_hub/utils/_token.py:88: UserWarning: \n",
            "The secret `HF_TOKEN` does not exist in your Colab secrets.\n",
            "To authenticate with the Hugging Face Hub, create a token in your settings tab (https://huggingface.co/settings/tokens), set it as secret in your Google Colab and restart your session.\n",
            "You will be able to reuse this secret in all of your notebooks.\n",
            "Please note that authentication is recommended but still optional to access public models or datasets.\n",
            "  warnings.warn(\n"
          ]
        },
        {
          "output_type": "display_data",
          "data": {
            "text/plain": [
              "config.yaml:   0%|          | 0.00/461 [00:00<?, ?B/s]"
            ],
            "application/vnd.jupyter.widget-view+json": {
              "version_major": 2,
              "version_minor": 0,
              "model_id": "474d9a121acd4a4ab0d9f946db1568bc"
            }
          },
          "metadata": {}
        },
        {
          "output_type": "display_data",
          "data": {
            "text/plain": [
              "pytorch_model.bin:   0%|          | 0.00/54.4M [00:00<?, ?B/s]"
            ],
            "application/vnd.jupyter.widget-view+json": {
              "version_major": 2,
              "version_minor": 0,
              "model_id": "b5624e5cd9a54018ac0a1db436ea7202"
            }
          },
          "metadata": {}
        }
      ]
    },
    {
      "cell_type": "code",
      "source": [
        "latent = gpt(auto_conditioning, text_tokens,\n",
        "    torch.tensor([text_tokens.shape[-1]], device=text_tokens.device), codes,\n",
        "    torch.tensor([codes.shape[-1]*gpt.mel_length_compression], device=text_tokens.device),\n",
        "    return_latent=True, clip_inputs=False).transpose(1,2)\n",
        "latent.shape"
      ],
      "metadata": {
        "colab": {
          "base_uri": "https://localhost:8080/"
        },
        "id": "cR1pO-tTDjng",
        "outputId": "d0e2bdfd-f0f9-4c0a-a742-a9108122b9cd"
      },
      "execution_count": 10,
      "outputs": [
        {
          "output_type": "execute_result",
          "data": {
            "text/plain": [
              "torch.Size([1, 1024, 70])"
            ]
          },
          "metadata": {},
          "execution_count": 10
        }
      ]
    },
    {
      "cell_type": "code",
      "source": [
        "from ttts.diffusion.train import do_spectrogram_diffusion\n",
        "from ttts.utils.diffusion import SpacedDiffusion, space_timesteps, get_named_beta_schedule\n",
        "from ttts.diffusion.aa_model import denormalize_tacotron_mel, normalize_tacotron_mel\n",
        "# print(device)\n",
        "diffusion = load_model('diffusion',MODELS['diffusion.pth'],'ttts/diffusion/config.yaml',device)\n",
        "diffuser = SpacedDiffusion(use_timesteps=space_timesteps(1000, [50]), model_mean_type='epsilon',\n",
        "                           model_var_type='learned_range', loss_type='mse', betas=get_named_beta_schedule('linear', 1000),\n",
        "                           conditioning_free=True, conditioning_free_k=2., sampler='dpm++2m')\n",
        "diffusion_conditioning = normalize_tacotron_mel(cond_mel)\n",
        "mel = do_spectrogram_diffusion(diffusion, diffuser, latent, diffusion_conditioning, temperature=1.0).detach().cpu()\n",
        "wav = vocos.decode(mel)"
      ],
      "metadata": {
        "colab": {
          "base_uri": "https://localhost:8080/"
        },
        "id": "G-bgy-MLDl3E",
        "outputId": "1161bb24-49d1-495f-e80d-49234e83160e"
      },
      "execution_count": 12,
      "outputs": [
        {
          "output_type": "stream",
          "name": "stdout",
          "text": [
            "base model params: 46144712\n"
          ]
        },
        {
          "output_type": "stream",
          "name": "stderr",
          "text": [
            "100%|██████████| 50/50 [00:05<00:00,  8.65it/s]\n"
          ]
        }
      ]
    },
    {
      "cell_type": "code",
      "source": [
        "from IPython.display import Audio\n",
        "wav = wav.detach().cpu()\n",
        "torchaudio.save('gen.wav',wav.detach().cpu(), 24000)\n",
        "Audio(wav,rate=24000)"
      ],
      "metadata": {
        "colab": {
          "base_uri": "https://localhost:8080/",
          "height": 74
        },
        "id": "Trjm4pQ7DoNJ",
        "outputId": "bf54e60f-f588-47b4-ceb3-7abac53fa2c2"
      },
      "execution_count": 13,
      "outputs": [
        {
          "output_type": "execute_result",
          "data": {
            "text/plain": [
              "<IPython.lib.display.Audio object>"
            ],
            "text/html": [
              "\n",
              "                <audio  controls=\"controls\" >\n",
              "                    <source src=\"data:audio/wav;base64,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\" type=\"audio/wav\" />\n",
              "                    Your browser does not support the audio element.\n",
              "                </audio>\n",
              "              "
            ]
          },
          "metadata": {},
          "execution_count": 13
        }
      ]
    }
  ]
}